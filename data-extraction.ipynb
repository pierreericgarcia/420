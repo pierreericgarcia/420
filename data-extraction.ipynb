{
 "cells": [
  {
   "cell_type": "code",
   "execution_count": 2,
   "metadata": {},
   "outputs": [],
   "source": [
    "import pandas as pd\n",
    "import os\n",
    "import requests\n",
    "import shutil \n",
    "\n",
    "current_path = os.getcwd()"
   ]
  },
  {
   "cell_type": "code",
   "execution_count": 3,
   "metadata": {},
   "outputs": [],
   "source": [
    "urls = pd.read_csv('{}/images-url.csv'.format(current_path))"
   ]
  },
  {
   "cell_type": "code",
   "execution_count": 84,
   "metadata": {},
   "outputs": [],
   "source": [
    "index = 0\n",
    "current_strain = 'agent-orange'\n",
    "\n",
    "\n",
    "def download_imgs(row):\n",
    "    global index\n",
    "    global current_strain\n",
    "    if row['strain'] != current_strain:\n",
    "        index = 0\n",
    "        current_strain = row['strain']\n",
    "        \n",
    "    index += 1\n",
    "\n",
    "    r = requests.get(row['url'], stream=True)\n",
    "    if r.status_code == 200:\n",
    "        path = '{}/img_datasets/{}/{}/{}_{}.jpg'.format(current_path, row['category'], row['strain'], row['strain'], index)\n",
    "        if not os.path.exists(os.path.dirname(path)):\n",
    "            try:\n",
    "                os.makedirs(os.path.dirname(path))\n",
    "            except OSError as exc:\n",
    "                if exc.errno != errno.EEXIST:\n",
    "                    raise\n",
    "        with open(path, 'wb') as f:\n",
    "            r.raw.decode_content = True\n",
    "            shutil.copyfileobj(r.raw, f)\n",
    "    else:\n",
    "        print(\"The request failed\")"
   ]
  },
  {
   "cell_type": "code",
   "execution_count": null,
   "metadata": {},
   "outputs": [],
   "source": [
    "urls.apply(download_imgs, axis = 1)"
   ]
  }
 ],
 "metadata": {
  "kernelspec": {
   "display_name": "Python 3",
   "language": "python",
   "name": "python3"
  },
  "language_info": {
   "codemirror_mode": {
    "name": "ipython",
    "version": 3
   },
   "file_extension": ".py",
   "mimetype": "text/x-python",
   "name": "python",
   "nbconvert_exporter": "python",
   "pygments_lexer": "ipython3",
   "version": "3.5.2"
  }
 },
 "nbformat": 4,
 "nbformat_minor": 2
}
