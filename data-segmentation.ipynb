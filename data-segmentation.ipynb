{
 "cells": [
  {
   "cell_type": "markdown",
   "metadata": {},
   "source": [
    "# How I'll split the data\n",
    "\n",
    "- Training data : 64%\n",
    "- Validation data : 16%\n",
    "- Testing data : 20%"
   ]
  },
  {
   "cell_type": "code",
   "execution_count": 2,
   "metadata": {},
   "outputs": [],
   "source": [
    "import os\n",
    "import glob\n",
    "import math\n",
    "import errno\n",
    "import shutil \n",
    "\n",
    "current_path = os.getcwd()"
   ]
  },
  {
   "cell_type": "code",
   "execution_count": 3,
   "metadata": {},
   "outputs": [],
   "source": [
    "root = '{}/datasets/'.format(current_path)"
   ]
  },
  {
   "cell_type": "code",
   "execution_count": 4,
   "metadata": {},
   "outputs": [
    {
     "name": "stdout",
     "output_type": "stream",
     "text": [
      "['/Users/docteur/notebooks/420/datasets/sativa/sour-diesel', '/Users/docteur/notebooks/420/datasets/sativa/acapulco-gold', '/Users/docteur/notebooks/420/datasets/sativa/silver-haze', '/Users/docteur/notebooks/420/datasets/sativa/chocolope', '/Users/docteur/notebooks/420/datasets/sativa/durban-poison', '/Users/docteur/notebooks/420/datasets/sativa/purple-haze', '/Users/docteur/notebooks/420/datasets/sativa/super-silver-haze', '/Users/docteur/notebooks/420/datasets/sativa/tangie', '/Users/docteur/notebooks/420/datasets/sativa/amnesia', '/Users/docteur/notebooks/420/datasets/sativa/super-lemon-haze', '/Users/docteur/notebooks/420/datasets/sativa/harlequin', '/Users/docteur/notebooks/420/datasets/sativa/amnesia-haze', '/Users/docteur/notebooks/420/datasets/sativa/candyland', '/Users/docteur/notebooks/420/datasets/sativa/island-sweet-skunk', '/Users/docteur/notebooks/420/datasets/sativa/lemon-haze', '/Users/docteur/notebooks/420/datasets/sativa/green-crack', '/Users/docteur/notebooks/420/datasets/sativa/cinex', '/Users/docteur/notebooks/420/datasets/sativa/lamb-s-bread', '/Users/docteur/notebooks/420/datasets/sativa/jack-herer', '/Users/docteur/notebooks/420/datasets/sativa/alaskan-thunder-fuck', '/Users/docteur/notebooks/420/datasets/sativa/maui-wowie', '/Users/docteur/notebooks/420/datasets/sativa/moby-dick', '/Users/docteur/notebooks/420/datasets/sativa/ghost-train-haze', '/Users/docteur/notebooks/420/datasets/sativa/strawberry-cough', '/Users/docteur/notebooks/420/datasets/indica/blueberry', '/Users/docteur/notebooks/420/datasets/indica/gods-gift', '/Users/docteur/notebooks/420/datasets/indica/la-confidential', '/Users/docteur/notebooks/420/datasets/indica/blueberry-kush', '/Users/docteur/notebooks/420/datasets/indica/g-13', '/Users/docteur/notebooks/420/datasets/indica/purple-urkle', '/Users/docteur/notebooks/420/datasets/indica/berry-white', '/Users/docteur/notebooks/420/datasets/indica/master-kush', '/Users/docteur/notebooks/420/datasets/indica/romulan', '/Users/docteur/notebooks/420/datasets/indica/death-star', '/Users/docteur/notebooks/420/datasets/indica/granddaddy-purple', '/Users/docteur/notebooks/420/datasets/indica/critical-mass', '/Users/docteur/notebooks/420/datasets/indica/hindu-kush', '/Users/docteur/notebooks/420/datasets/indica/white-rhino', '/Users/docteur/notebooks/420/datasets/indica/orange-kush', '/Users/docteur/notebooks/420/datasets/indica/blackberry-kush', '/Users/docteur/notebooks/420/datasets/indica/bubba-kush', '/Users/docteur/notebooks/420/datasets/indica/blue-cheese', '/Users/docteur/notebooks/420/datasets/indica/mr-nice', '/Users/docteur/notebooks/420/datasets/indica/kosher-kush', '/Users/docteur/notebooks/420/datasets/indica/grape-ape', '/Users/docteur/notebooks/420/datasets/indica/afghan-kush', '/Users/docteur/notebooks/420/datasets/indica/northern-lights', '/Users/docteur/notebooks/420/datasets/indica/purple-kush', '/Users/docteur/notebooks/420/datasets/hybrid/golden-goat', '/Users/docteur/notebooks/420/datasets/hybrid/chemdawg', '/Users/docteur/notebooks/420/datasets/hybrid/tahoe-og', '/Users/docteur/notebooks/420/datasets/hybrid/ak-47', '/Users/docteur/notebooks/420/datasets/hybrid/lemon-kush', '/Users/docteur/notebooks/420/datasets/hybrid/bruce-banner', '/Users/docteur/notebooks/420/datasets/hybrid/mazar-x-blueberry-og', '/Users/docteur/notebooks/420/datasets/hybrid/cheese', '/Users/docteur/notebooks/420/datasets/hybrid/trainwreck', '/Users/docteur/notebooks/420/datasets/hybrid/agent-orange', '/Users/docteur/notebooks/420/datasets/hybrid/lsd', '/Users/docteur/notebooks/420/datasets/hybrid/pineapple-express', '/Users/docteur/notebooks/420/datasets/hybrid/cherry-pie', '/Users/docteur/notebooks/420/datasets/hybrid/blue-dream', '/Users/docteur/notebooks/420/datasets/hybrid/white-widow', '/Users/docteur/notebooks/420/datasets/hybrid/headband', '/Users/docteur/notebooks/420/datasets/hybrid/gsc', '/Users/docteur/notebooks/420/datasets/hybrid/mango-kush', '/Users/docteur/notebooks/420/datasets/hybrid/platinum-gsc', '/Users/docteur/notebooks/420/datasets/hybrid/fire-og', '/Users/docteur/notebooks/420/datasets/hybrid/mazar-x-blueberry', '/Users/docteur/notebooks/420/datasets/hybrid/og-kush', '/Users/docteur/notebooks/420/datasets/hybrid/dutch-treat', '/Users/docteur/notebooks/420/datasets/hybrid/gg-4']\n"
     ]
    }
   ],
   "source": [
    "stains_folders = glob.glob('{}*/*'.format(root))\n",
    "print(stains_folders)"
   ]
  },
  {
   "cell_type": "code",
   "execution_count": 12,
   "metadata": {},
   "outputs": [],
   "source": [
    "training_ratio = 0.64\n",
    "validation_ratio = 0.16\n",
    "testing_ratio = 0.2\n",
    "\n",
    "for current_strain in stains_folders:\n",
    "    images_in_current_strain = glob.glob('{}/*'.format(current_strain))\n",
    "    \n",
    "    train_length = math.ceil(len(images_in_current_strain) * training_ratio)\n",
    "    validation_length = math.ceil(len(images_in_current_strain) * validation_ratio)\n",
    "    test_length = math.ceil(len(images_in_current_strain) * testing_ratio)\n",
    "    \n",
    "    datasets_split = [\n",
    "        { 'label': 'train', 'range': range(train_length) }, \n",
    "        { 'label': 'valid', 'range': range(train_length, (train_length + validation_length)) }, \n",
    "        { 'label': 'test', 'range': range((train_length + validation_length), (train_length + validation_length + test_length)) }\n",
    "    ]\n",
    "    \n",
    "    for split in datasets_split:\n",
    "        \n",
    "        current_range = range\n",
    "        \n",
    "        for index in split['range']:\n",
    "            if len(images_in_current_strain) > index:\n",
    "                \n",
    "                old_path = images_in_current_strain[index]\n",
    "                \n",
    "                new_path = images_in_current_strain[index].split(root)\n",
    "                new_path[0] = '{}{}'.format(root, split['label'])\n",
    "                current_strain = new_path[1].split('/')[1]\n",
    "                new_path[1] = new_path[1].replace('{}/'.format(current_strain), '')\n",
    "                new_path = '/'.join(new_path)\n",
    "                \n",
    "                if not os.path.exists(os.path.dirname(new_path)):\n",
    "                    try:\n",
    "                        os.makedirs(os.path.dirname(new_path))\n",
    "                    except OSError as exc:\n",
    "                        if exc.errno != errno.EEXIST:\n",
    "                            raise\n",
    "                \n",
    "                shutil.move(old_path, new_path)"
   ]
  },
  {
   "cell_type": "code",
   "execution_count": null,
   "metadata": {},
   "outputs": [],
   "source": []
  },
  {
   "cell_type": "code",
   "execution_count": null,
   "metadata": {},
   "outputs": [],
   "source": []
  }
 ],
 "metadata": {
  "kernelspec": {
   "display_name": "Python 3",
   "language": "python",
   "name": "python3"
  },
  "language_info": {
   "codemirror_mode": {
    "name": "ipython",
    "version": 3
   },
   "file_extension": ".py",
   "mimetype": "text/x-python",
   "name": "python",
   "nbconvert_exporter": "python",
   "pygments_lexer": "ipython3",
   "version": "3.5.2"
  }
 },
 "nbformat": 4,
 "nbformat_minor": 2
}
